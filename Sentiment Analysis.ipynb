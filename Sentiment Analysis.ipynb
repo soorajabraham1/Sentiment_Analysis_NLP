{
 "cells": [
  {
   "cell_type": "code",
   "execution_count": 1,
   "metadata": {},
   "outputs": [],
   "source": [
    "import tweepy,re\n",
    "from textblob import TextBlob\n",
    "import matplotlib.pyplot as plt\n",
    "import pandas as pd\n",
    "from nltk.tokenize import word_tokenize\n",
    "from nltk.stem import WordNetLemmatizer\n",
    "from nltk.corpus import stopwords"
   ]
  },
  {
   "cell_type": "code",
   "execution_count": 10,
   "metadata": {},
   "outputs": [
    {
     "name": "stderr",
     "output_type": "stream",
     "text": [
      "[nltk_data] Downloading package punkt to /home/sooraj/nltk_data...\n",
      "[nltk_data]   Unzipping tokenizers/punkt.zip.\n"
     ]
    },
    {
     "data": {
      "text/plain": [
       "True"
      ]
     },
     "execution_count": 10,
     "metadata": {},
     "output_type": "execute_result"
    }
   ],
   "source": [
    "import nltk\n",
    "nltk.download('punkt')"
   ]
  },
  {
   "cell_type": "code",
   "execution_count": 2,
   "metadata": {},
   "outputs": [],
   "source": [
    "# authentication\n",
    "consumerKey = 'Hiding it due to security reason'\n",
    "consumerSecret = 'Hiding it due to security reason'\n",
    "accessToken = 'Hiding it due to security reason'\n",
    "accessTokenSecret = 'Hiding it due to security reason'\n",
    "auth = tweepy.OAuthHandler(consumerKey, consumerSecret)\n",
    "auth.set_access_token(accessToken, accessTokenSecret)\n",
    "api = tweepy.API(auth)"
   ]
  },
  {
   "cell_type": "code",
   "execution_count": 22,
   "metadata": {},
   "outputs": [],
   "source": [
    "# input for term to be searched and how many tweets to search\n",
    "searchTerm = input(\"Enter Keyword/Tag to search about: \")\n",
    "NoOfTerms = int(input(\"Enter how many tweets to search: \"))\n",
    "\n",
    "tweets = []\n",
    "tweetText = []\n",
    "# searching for tweets\n",
    "tweets = tweepy.Cursor(api.search_tweets, q=searchTerm+\" -filter:retweets\", lang = \"en\").items(NoOfTerms)"
   ]
  },
  {
   "cell_type": "code",
   "execution_count": 23,
   "metadata": {},
   "outputs": [
    {
     "data": {
      "text/html": [
       "<div>\n",
       "<style scoped>\n",
       "    .dataframe tbody tr th:only-of-type {\n",
       "        vertical-align: middle;\n",
       "    }\n",
       "\n",
       "    .dataframe tbody tr th {\n",
       "        vertical-align: top;\n",
       "    }\n",
       "\n",
       "    .dataframe thead th {\n",
       "        text-align: right;\n",
       "    }\n",
       "</style>\n",
       "<table border=\"1\" class=\"dataframe\">\n",
       "  <thead>\n",
       "    <tr style=\"text-align: right;\">\n",
       "      <th></th>\n",
       "      <th>0</th>\n",
       "    </tr>\n",
       "  </thead>\n",
       "  <tbody>\n",
       "    <tr>\n",
       "      <th>0</th>\n",
       "      <td>\"If you're innocent why are you taking the 5th...</td>\n",
       "    </tr>\n",
       "    <tr>\n",
       "      <th>1</th>\n",
       "      <td>@crap4luck15 @TonyaVerdin @AngelaBelcamino @Re...</td>\n",
       "    </tr>\n",
       "    <tr>\n",
       "      <th>2</th>\n",
       "      <td>Now, Donald Trump previously saying that takin...</td>\n",
       "    </tr>\n",
       "    <tr>\n",
       "      <th>3</th>\n",
       "      <td>An author who ghostwrote one of Trump's books ...</td>\n",
       "    </tr>\n",
       "    <tr>\n",
       "      <th>4</th>\n",
       "      <td>@thehill Let’s be honest. Donald Trump needs h...</td>\n",
       "    </tr>\n",
       "    <tr>\n",
       "      <th>...</th>\n",
       "      <td>...</td>\n",
       "    </tr>\n",
       "    <tr>\n",
       "      <th>65</th>\n",
       "      <td>New York AG Letitia James's office to depose D...</td>\n",
       "    </tr>\n",
       "    <tr>\n",
       "      <th>66</th>\n",
       "      <td>I see Donald Trump took the fifth this morning...</td>\n",
       "    </tr>\n",
       "    <tr>\n",
       "      <th>67</th>\n",
       "      <td>https://t.co/vZj5oBsqy9\\n\\nDonald Trump invoke...</td>\n",
       "    </tr>\n",
       "    <tr>\n",
       "      <th>68</th>\n",
       "      <td>I thought he said only guilty people plead the...</td>\n",
       "    </tr>\n",
       "    <tr>\n",
       "      <th>69</th>\n",
       "      <td>Trump in 2016:\\n\"The mob takes the Fifth. If y...</td>\n",
       "    </tr>\n",
       "  </tbody>\n",
       "</table>\n",
       "<p>70 rows × 1 columns</p>\n",
       "</div>"
      ],
      "text/plain": [
       "                                                    0\n",
       "0   \"If you're innocent why are you taking the 5th...\n",
       "1   @crap4luck15 @TonyaVerdin @AngelaBelcamino @Re...\n",
       "2   Now, Donald Trump previously saying that takin...\n",
       "3   An author who ghostwrote one of Trump's books ...\n",
       "4   @thehill Let’s be honest. Donald Trump needs h...\n",
       "..                                                ...\n",
       "65  New York AG Letitia James's office to depose D...\n",
       "66  I see Donald Trump took the fifth this morning...\n",
       "67  https://t.co/vZj5oBsqy9\\n\\nDonald Trump invoke...\n",
       "68  I thought he said only guilty people plead the...\n",
       "69  Trump in 2016:\\n\"The mob takes the Fifth. If y...\n",
       "\n",
       "[70 rows x 1 columns]"
      ]
     },
     "execution_count": 23,
     "metadata": {},
     "output_type": "execute_result"
    }
   ],
   "source": [
    "tweet_list = [tweet.text for tweet in tweets]\n",
    "tweet_df = pd.DataFrame(tweet_list)\n",
    "tweet_df"
   ]
  },
  {
   "cell_type": "code",
   "execution_count": 24,
   "metadata": {},
   "outputs": [],
   "source": [
    "def clean_data(text):\n",
    "    return ' '.join(re.sub(\"(@[a-zA-Z0-9]+)|([^0-9A-Za-z])|(https://[\\w.]+/[\\w]+)\", \" \", text).split())\n",
    "\n",
    "tweet_df['cleaned_data'] = tweet_df[0].apply(clean_data)"
   ]
  },
  {
   "cell_type": "code",
   "execution_count": 25,
   "metadata": {},
   "outputs": [
    {
     "data": {
      "text/html": [
       "<div>\n",
       "<style scoped>\n",
       "    .dataframe tbody tr th:only-of-type {\n",
       "        vertical-align: middle;\n",
       "    }\n",
       "\n",
       "    .dataframe tbody tr th {\n",
       "        vertical-align: top;\n",
       "    }\n",
       "\n",
       "    .dataframe thead th {\n",
       "        text-align: right;\n",
       "    }\n",
       "</style>\n",
       "<table border=\"1\" class=\"dataframe\">\n",
       "  <thead>\n",
       "    <tr style=\"text-align: right;\">\n",
       "      <th></th>\n",
       "      <th>0</th>\n",
       "      <th>cleaned_data</th>\n",
       "    </tr>\n",
       "  </thead>\n",
       "  <tbody>\n",
       "    <tr>\n",
       "      <th>0</th>\n",
       "      <td>\"If you're innocent why are you taking the 5th...</td>\n",
       "      <td>If you re innocent why are you taking the 5th ...</td>\n",
       "    </tr>\n",
       "    <tr>\n",
       "      <th>1</th>\n",
       "      <td>@crap4luck15 @TonyaVerdin @AngelaBelcamino @Re...</td>\n",
       "      <td>It doesn t matter if the appointee is holding ...</td>\n",
       "    </tr>\n",
       "    <tr>\n",
       "      <th>2</th>\n",
       "      <td>Now, Donald Trump previously saying that takin...</td>\n",
       "      <td>Now Donald Trump previously saying that taking...</td>\n",
       "    </tr>\n",
       "    <tr>\n",
       "      <th>3</th>\n",
       "      <td>An author who ghostwrote one of Trump's books ...</td>\n",
       "      <td>An author who ghostwrote one of Trump s books ...</td>\n",
       "    </tr>\n",
       "    <tr>\n",
       "      <th>4</th>\n",
       "      <td>@thehill Let’s be honest. Donald Trump needs h...</td>\n",
       "      <td>Let s be honest Donald Trump needs his pics to...</td>\n",
       "    </tr>\n",
       "  </tbody>\n",
       "</table>\n",
       "</div>"
      ],
      "text/plain": [
       "                                                   0  \\\n",
       "0  \"If you're innocent why are you taking the 5th...   \n",
       "1  @crap4luck15 @TonyaVerdin @AngelaBelcamino @Re...   \n",
       "2  Now, Donald Trump previously saying that takin...   \n",
       "3  An author who ghostwrote one of Trump's books ...   \n",
       "4  @thehill Let’s be honest. Donald Trump needs h...   \n",
       "\n",
       "                                        cleaned_data  \n",
       "0  If you re innocent why are you taking the 5th ...  \n",
       "1  It doesn t matter if the appointee is holding ...  \n",
       "2  Now Donald Trump previously saying that taking...  \n",
       "3  An author who ghostwrote one of Trump s books ...  \n",
       "4  Let s be honest Donald Trump needs his pics to...  "
      ]
     },
     "execution_count": 25,
     "metadata": {},
     "output_type": "execute_result"
    }
   ],
   "source": [
    "tweet_df.head()"
   ]
  },
  {
   "cell_type": "code",
   "execution_count": 26,
   "metadata": {},
   "outputs": [],
   "source": [
    "def drop_numbers(list_text):\n",
    "    list_text_new = []\n",
    "    for i in list_text:\n",
    "        if not re.search('\\d', i):\n",
    "            list_text_new.append(i)\n",
    "    return ''.join(list_text_new)\n",
    "\n",
    "tweet_df['cleaned_data'] = tweet_df['cleaned_data'].apply(drop_numbers)"
   ]
  },
  {
   "cell_type": "code",
   "execution_count": 27,
   "metadata": {},
   "outputs": [
    {
     "data": {
      "text/html": [
       "<div>\n",
       "<style scoped>\n",
       "    .dataframe tbody tr th:only-of-type {\n",
       "        vertical-align: middle;\n",
       "    }\n",
       "\n",
       "    .dataframe tbody tr th {\n",
       "        vertical-align: top;\n",
       "    }\n",
       "\n",
       "    .dataframe thead th {\n",
       "        text-align: right;\n",
       "    }\n",
       "</style>\n",
       "<table border=\"1\" class=\"dataframe\">\n",
       "  <thead>\n",
       "    <tr style=\"text-align: right;\">\n",
       "      <th></th>\n",
       "      <th>0</th>\n",
       "      <th>cleaned_data</th>\n",
       "    </tr>\n",
       "  </thead>\n",
       "  <tbody>\n",
       "    <tr>\n",
       "      <th>0</th>\n",
       "      <td>\"If you're innocent why are you taking the 5th...</td>\n",
       "      <td>If you re innocent why are you taking the th A...</td>\n",
       "    </tr>\n",
       "    <tr>\n",
       "      <th>1</th>\n",
       "      <td>@crap4luck15 @TonyaVerdin @AngelaBelcamino @Re...</td>\n",
       "      <td>It doesn t matter if the appointee is holding ...</td>\n",
       "    </tr>\n",
       "    <tr>\n",
       "      <th>2</th>\n",
       "      <td>Now, Donald Trump previously saying that takin...</td>\n",
       "      <td>Now Donald Trump previously saying that taking...</td>\n",
       "    </tr>\n",
       "    <tr>\n",
       "      <th>3</th>\n",
       "      <td>An author who ghostwrote one of Trump's books ...</td>\n",
       "      <td>An author who ghostwrote one of Trump s books ...</td>\n",
       "    </tr>\n",
       "    <tr>\n",
       "      <th>4</th>\n",
       "      <td>@thehill Let’s be honest. Donald Trump needs h...</td>\n",
       "      <td>Let s be honest Donald Trump needs his pics to...</td>\n",
       "    </tr>\n",
       "  </tbody>\n",
       "</table>\n",
       "</div>"
      ],
      "text/plain": [
       "                                                   0  \\\n",
       "0  \"If you're innocent why are you taking the 5th...   \n",
       "1  @crap4luck15 @TonyaVerdin @AngelaBelcamino @Re...   \n",
       "2  Now, Donald Trump previously saying that takin...   \n",
       "3  An author who ghostwrote one of Trump's books ...   \n",
       "4  @thehill Let’s be honest. Donald Trump needs h...   \n",
       "\n",
       "                                        cleaned_data  \n",
       "0  If you re innocent why are you taking the th A...  \n",
       "1  It doesn t matter if the appointee is holding ...  \n",
       "2  Now Donald Trump previously saying that taking...  \n",
       "3  An author who ghostwrote one of Trump s books ...  \n",
       "4  Let s be honest Donald Trump needs his pics to...  "
      ]
     },
     "execution_count": 27,
     "metadata": {},
     "output_type": "execute_result"
    }
   ],
   "source": [
    "tweet_df.head()"
   ]
  },
  {
   "cell_type": "code",
   "execution_count": 28,
   "metadata": {},
   "outputs": [],
   "source": [
    "# changing all the words of the reviews column to lowercase letters\n",
    "def lower_case(text):\n",
    "    text_words = word_tokenize(text)\n",
    "    text_words_lower = [x.lower() for x in text_words]\n",
    "    return ' '.join(text_words_lower)\n",
    "\n",
    "tweet_df['cleaned_data'] = tweet_df['cleaned_data'].apply(lower_case)"
   ]
  },
  {
   "cell_type": "code",
   "execution_count": 14,
   "metadata": {},
   "outputs": [
    {
     "name": "stderr",
     "output_type": "stream",
     "text": [
      "[nltk_data] Downloading package wordnet to /home/sooraj/nltk_data...\n",
      "[nltk_data]   Package wordnet is already up-to-date!\n"
     ]
    },
    {
     "data": {
      "text/plain": [
       "True"
      ]
     },
     "execution_count": 14,
     "metadata": {},
     "output_type": "execute_result"
    }
   ],
   "source": [
    "import nltk\n",
    "nltk.download('wordnet')"
   ]
  },
  {
   "cell_type": "code",
   "execution_count": null,
   "metadata": {},
   "outputs": [],
   "source": [
    "nltk.download('all')"
   ]
  },
  {
   "cell_type": "code",
   "execution_count": 29,
   "metadata": {},
   "outputs": [],
   "source": [
    "lemmatizer = WordNetLemmatizer()\n",
    "def lemmatise(text):\n",
    "    text_tokens = word_tokenize(text)\n",
    "    text_lemm = [lemmatizer.lemmatize(word) for word in text_tokens]\n",
    "    return ' '.join(text_lemm)\n",
    "\n",
    "tweet_df['cleaned_data'] = tweet_df['cleaned_data'].apply(lemmatise)"
   ]
  },
  {
   "cell_type": "code",
   "execution_count": 30,
   "metadata": {},
   "outputs": [
    {
     "data": {
      "text/plain": [
       "array(['if you re innocent why are you taking the th amendment donald trump a he take the th amendment',\n",
       "       'it doesn t matter if the appointee is holding up the law if th',\n",
       "       'now donald trump previously saying that taking the fifth is a mob like behavior and his spokeswoman sarah huckabee',\n",
       "       'an author who ghostwrote one of trump s book speculates trump may ve taken white house document to one day sell a',\n",
       "       'let s be honest donald trump need his pic to be backdated he look quite a bit older these day what w',\n",
       "       'seriously david gergen it s hard to make a balanced judgment about donald trump you say that just after he',\n",
       "       'what doe plead the fifth mean will donald trump do it',\n",
       "       'donald trump right now',\n",
       "       'remember that time donald trump pressured georgia s republican secretary of state to find him enough vote to ov',\n",
       "       'i don t blame president trump they are running a parallel criminal investigation she ran saying sh',\n",
       "       'i want to know what the probable cause wa maya wiley on the mar a lago raid the nation wa stunned by the fbi',\n",
       "       'donald trump declined to answer the new york attorney general s question invoking his fifth amendment right he',\n",
       "       'you see the mob take the fifth he said if you re innocent why are you taking the fifth amendment donald',\n",
       "       'no one is above the law not even scumbag loser donald trump',\n",
       "       'donald trump invokes fifth amendment right decline to answer question from ny attorney general cnn politics',\n",
       "       'trump say he took the fifth amendment in ny investigation from',\n",
       "       'jordan you talking about donald plead the th trump',\n",
       "       'no surprise donald trump say he invoked the fifth amendment and wouldn t answer question under oath in the lon',\n",
       "       'wow donald trump previous debate quote you see the mob take the fifth if you re innocent why are you taking the fifth amendment',\n",
       "       'donald trump in court today',\n",
       "       'fascinating juxtaposition having watched hillary clinton provide fully transparent testimony for over hour on',\n",
       "       'from trump once said pleading the fifth wa for the mob and now he might do it',\n",
       "       'donald trump took the fifth declining to answer question at a deposition before new york attorney general today i',\n",
       "       'donald trump in you see the mob take the fifth if you re innocent why',\n",
       "       'if you re innocent why are you taking the fifth amendment donald trump iowa lockhimup',\n",
       "       'if you re having a bad day just remember that donald trump s home in florida got raided by the fbi',\n",
       "       'former president donald trump taking the th amendment make it clear trumpisguilty according to trump founding f',\n",
       "       'coward donald trump claimed the th amendment in the new york hearing investigation by letitia james today he him',\n",
       "       'loser criminal donald trump take the fifth in n y a g investigation into his business practice to quote a s',\n",
       "       'trump only criminal take the fifth you don t take the fifth if you re innocent donald trump exercised his',\n",
       "       'junior your orange head father is so damn corrupt i have never seen such a corrupt person in my lif',\n",
       "       'trump took the fifth only the guilty take the fifth donald john trump fifthamendment thamendment trumpisguilty trump',\n",
       "       'donald trump infamous critic of the fifth say he pleaded the fifth in ny probe',\n",
       "       'yesterday donald trump wa raided by the fbi today an appeal court ha ruled that house democrat can access hi',\n",
       "       'donald trump ha previously said if you re innocent why take the th amendment on multiple occasion he ha di',\n",
       "       'former president donald trump invokes fifth amendment right and decline to answer question from ny attorney gene',\n",
       "       'trump take the fifth breaking news donald trump declined to answer the new york attorney general s question in',\n",
       "       'trump say he took the fifth amendment in ny investigation smartnews',\n",
       "       'five time donald trump ha bashed pleading the fifth mtp daily msnbc via',\n",
       "       'only the guilty take the fifth donald juda trump',\n",
       "       'former president donald trump invokes fifth amendment right and decline to answer question from ny attorney gene',\n",
       "       'do we believe our own dogma the fbi serf search warrant on home all the time donald trump is a former presid',\n",
       "       'shocker he s got too much to hide donald trump invoked the fifth amendment and wouldn',\n",
       "       'the mob take the th if you re innocent why you taking the th donald trump spin that',\n",
       "       'common sense if mccarthy jordan thomas donald tr',\n",
       "       'what kind of ridiculous headline is this donald trump broke the law amp stole classified material amp',\n",
       "       'if you re innocent why are you taking the fifth amendment donald trump',\n",
       "       'there s a reason why donald trump won t tell u what the fbi found during it legal search of mar a lago',\n",
       "       'the civil investigation led by state attorney general letitia james involves allegation that trump s compan',\n",
       "       'and today corrupt criminal donald trump took the fifth go figure',\n",
       "       'donald trump declined to answer the new york attorney general s question invoking his fifth amendment right he',\n",
       "       'open letter to dick cheney use every last bit of your political dark art to rid u of donald trump and his ilk',\n",
       "       'i do not understand this the democrat stole the last election from trump what s this doj talk with trump',\n",
       "       'the mob take the fifth amendment if you re innocent why are you taking the fifth amendment donald trump',\n",
       "       'end the biden pelosi persecution of donald trump and his supporter now tell congressional republican to defund',\n",
       "       'excellent thread the lawsuit and investigation donald trump face by',\n",
       "       'donald trump wa required to participate in a deposition in new york he chose to plead the th and not answer ques',\n",
       "       'trump pleads guilty oh wait my bad apparently trump took the th today s deposition and wouldn t talk to',\n",
       "       'you see the mob take the fifth if you re innocent why are you taking the fifth amendment donald trump',\n",
       "       'former u s president donald trump said on wednesday he declined to answer question durin',\n",
       "       'donald trump s take on the th amendment in sept the mob take the th amendment if you re innocent why',\n",
       "       'why is donald trump not showing the world the search warrant',\n",
       "       'the mob take the fifth if your innocent why are you taking the fifth amendment donald t tr',\n",
       "       'america deserves answer for this unprecedented act and that is why we are calling on donald trump to release his',\n",
       "       'this wa politically motivated attorney paul kamenar joined the national desk this morning to discus the fbi',\n",
       "       'new york ag letitia james s office to depose donald trump wednesday the washington post',\n",
       "       'i see donald trump took the fifth this morning he said during his speech about hillary clinton if you re innocent',\n",
       "       'donald trump invoked the fifth amendment and wouldn t answer question under oath in the n',\n",
       "       'i thought he said only guilty people plead the fifth trump say he took the fifth amendment in ny investigation',\n",
       "       'trump in the mob take the fifth if you re innocent why are you taking the fifth amendment'],\n",
       "      dtype=object)"
      ]
     },
     "execution_count": 30,
     "metadata": {},
     "output_type": "execute_result"
    }
   ],
   "source": [
    "tweet_df['cleaned_data'].values"
   ]
  },
  {
   "cell_type": "code",
   "execution_count": 31,
   "metadata": {},
   "outputs": [],
   "source": [
    "def remove_stopword(text):\n",
    "    text_tokens = word_tokenize(text)\n",
    "    tokens = [word for word in text_tokens if not word in set(stopwords.words('english'))]\n",
    "    tokens_text = ' '.join(tokens)\n",
    "    return tokens_text\n",
    "\n",
    "tweet_df['cleaned_data'] = tweet_df['cleaned_data'].apply(remove_stopword)"
   ]
  },
  {
   "cell_type": "code",
   "execution_count": 32,
   "metadata": {},
   "outputs": [
    {
     "data": {
      "text/plain": [
       "array(['innocent taking th amendment donald trump take th amendment',\n",
       "       'matter appointee holding law th',\n",
       "       'donald trump previously saying taking fifth mob like behavior spokeswoman sarah huckabee',\n",
       "       'author ghostwrote one trump book speculates trump may taken white house document one day sell',\n",
       "       'let honest donald trump need pic backdated look quite bit older day w',\n",
       "       'seriously david gergen hard make balanced judgment donald trump say',\n",
       "       'doe plead fifth mean donald trump', 'donald trump right',\n",
       "       'remember time donald trump pressured georgia republican secretary state find enough vote ov',\n",
       "       'blame president trump running parallel criminal investigation ran saying sh',\n",
       "       'want know probable cause wa maya wiley mar lago raid nation wa stunned fbi',\n",
       "       'donald trump declined answer new york attorney general question invoking fifth amendment right',\n",
       "       'see mob take fifth said innocent taking fifth amendment donald',\n",
       "       'one law even scumbag loser donald trump',\n",
       "       'donald trump invokes fifth amendment right decline answer question ny attorney general cnn politics',\n",
       "       'trump say took fifth amendment ny investigation',\n",
       "       'jordan talking donald plead th trump',\n",
       "       'surprise donald trump say invoked fifth amendment answer question oath lon',\n",
       "       'wow donald trump previous debate quote see mob take fifth innocent taking fifth amendment',\n",
       "       'donald trump court today',\n",
       "       'fascinating juxtaposition watched hillary clinton provide fully transparent testimony hour',\n",
       "       'trump said pleading fifth wa mob might',\n",
       "       'donald trump took fifth declining answer question deposition new york attorney general today',\n",
       "       'donald trump see mob take fifth innocent',\n",
       "       'innocent taking fifth amendment donald trump iowa lockhimup',\n",
       "       'bad day remember donald trump home florida got raided fbi',\n",
       "       'former president donald trump taking th amendment make clear trumpisguilty according trump founding f',\n",
       "       'coward donald trump claimed th amendment new york hearing investigation letitia james today',\n",
       "       'loser criminal donald trump take fifth n g investigation business practice quote',\n",
       "       'trump criminal take fifth take fifth innocent donald trump exercised',\n",
       "       'junior orange head father damn corrupt never seen corrupt person lif',\n",
       "       'trump took fifth guilty take fifth donald john trump fifthamendment thamendment trumpisguilty trump',\n",
       "       'donald trump infamous critic fifth say pleaded fifth ny probe',\n",
       "       'yesterday donald trump wa raided fbi today appeal court ha ruled house democrat access hi',\n",
       "       'donald trump ha previously said innocent take th amendment multiple occasion ha di',\n",
       "       'former president donald trump invokes fifth amendment right decline answer question ny attorney gene',\n",
       "       'trump take fifth breaking news donald trump declined answer new york attorney general question',\n",
       "       'trump say took fifth amendment ny investigation smartnews',\n",
       "       'five time donald trump ha bashed pleading fifth mtp daily msnbc via',\n",
       "       'guilty take fifth donald juda trump',\n",
       "       'former president donald trump invokes fifth amendment right decline answer question ny attorney gene',\n",
       "       'believe dogma fbi serf search warrant home time donald trump former presid',\n",
       "       'shocker got much hide donald trump invoked fifth amendment',\n",
       "       'mob take th innocent taking th donald trump spin',\n",
       "       'common sense mccarthy jordan thomas donald tr',\n",
       "       'kind ridiculous headline donald trump broke law amp stole classified material amp',\n",
       "       'innocent taking fifth amendment donald trump',\n",
       "       'reason donald trump tell u fbi found legal search mar lago',\n",
       "       'civil investigation led state attorney general letitia james involves allegation trump compan',\n",
       "       'today corrupt criminal donald trump took fifth go figure',\n",
       "       'donald trump declined answer new york attorney general question invoking fifth amendment right',\n",
       "       'open letter dick cheney use every last bit political dark art rid u donald trump ilk',\n",
       "       'understand democrat stole last election trump doj talk trump',\n",
       "       'mob take fifth amendment innocent taking fifth amendment donald trump',\n",
       "       'end biden pelosi persecution donald trump supporter tell congressional republican defund',\n",
       "       'excellent thread lawsuit investigation donald trump face',\n",
       "       'donald trump wa required participate deposition new york chose plead th answer ques',\n",
       "       'trump pleads guilty oh wait bad apparently trump took th today deposition talk',\n",
       "       'see mob take fifth innocent taking fifth amendment donald trump',\n",
       "       'former u president donald trump said wednesday declined answer question durin',\n",
       "       'donald trump take th amendment sept mob take th amendment innocent',\n",
       "       'donald trump showing world search warrant',\n",
       "       'mob take fifth innocent taking fifth amendment donald tr',\n",
       "       'america deserves answer unprecedented act calling donald trump release',\n",
       "       'wa politically motivated attorney paul kamenar joined national desk morning discus fbi',\n",
       "       'new york ag letitia james office depose donald trump wednesday washington post',\n",
       "       'see donald trump took fifth morning said speech hillary clinton innocent',\n",
       "       'donald trump invoked fifth amendment answer question oath n',\n",
       "       'thought said guilty people plead fifth trump say took fifth amendment ny investigation',\n",
       "       'trump mob take fifth innocent taking fifth amendment'],\n",
       "      dtype=object)"
      ]
     },
     "execution_count": 32,
     "metadata": {},
     "output_type": "execute_result"
    }
   ],
   "source": [
    "tweet_df['cleaned_data'].values"
   ]
  },
  {
   "cell_type": "markdown",
   "metadata": {},
   "source": [
    "# 5"
   ]
  },
  {
   "cell_type": "code",
   "execution_count": 33,
   "metadata": {},
   "outputs": [],
   "source": [
    "# Lets calculate the Polarity of the Reviews\n",
    "def get_polarity(text):\n",
    "    textblob = TextBlob(str(text))\n",
    "    pol = textblob.sentiment.polarity\n",
    "    if(pol==0):\n",
    "        return \"Neutral\"\n",
    "    elif(pol>0 and pol<=0.3):\n",
    "        return \"Weakly Positive\"\n",
    "    elif(pol>0.3 and pol<=0.6):\n",
    "        return \"Positive\"\n",
    "    elif(pol>0.6 and pol<=1):\n",
    "        return \"Strongly Positive\"\n",
    "    elif(pol>-0.3 and pol<=0):\n",
    "        return \"Weakly Negative\"\n",
    "    elif(pol>-0.6 and pol<=-0.3):\n",
    "        return \"Negative\"\n",
    "    elif(pol>-1 and pol<=-0.6):\n",
    "        return \"Strongly Negative\"\n",
    "    \n",
    "tweet_df['polarity'] = tweet_df['cleaned_data'].apply(get_polarity)"
   ]
  },
  {
   "cell_type": "code",
   "execution_count": 34,
   "metadata": {},
   "outputs": [
    {
     "data": {
      "text/plain": [
       "Neutral              20\n",
       "Weakly Positive      19\n",
       "Positive             14\n",
       "Negative             11\n",
       "Weakly Negative       3\n",
       "Strongly Positive     2\n",
       "Strongly Negative     1\n",
       "Name: polarity, dtype: int64"
      ]
     },
     "execution_count": 34,
     "metadata": {},
     "output_type": "execute_result"
    }
   ],
   "source": [
    "tweet_df['polarity'].value_counts()"
   ]
  },
  {
   "cell_type": "code",
   "execution_count": 35,
   "metadata": {},
   "outputs": [
    {
     "data": {
      "text/plain": [
       "0               object\n",
       "cleaned_data    object\n",
       "polarity        object\n",
       "dtype: object"
      ]
     },
     "execution_count": 35,
     "metadata": {},
     "output_type": "execute_result"
    }
   ],
   "source": [
    "tweet_df.dtypes"
   ]
  },
  {
   "cell_type": "code",
   "execution_count": 36,
   "metadata": {},
   "outputs": [],
   "source": [
    "neutral = 0\n",
    "wpositive = 0\n",
    "spositive = 0\n",
    "positive = 0\n",
    "negative = 0\n",
    "wnegative = 0\n",
    "snegative = 0\n",
    "polarity = 0\n",
    "\n",
    "for i in range(0,70):\n",
    "    textblob = TextBlob(str(tweet_df['cleaned_data'][i]))\n",
    "    polarity+= textblob.sentiment.polarity\n",
    "    pol = textblob.sentiment.polarity\n",
    "    if (pol == 0):  # adding reaction of how people are reacting to find average later\n",
    "        neutral += 1\n",
    "    elif (pol > 0 and pol <= 0.3):\n",
    "        wpositive += 1\n",
    "    elif (pol > 0.3 and pol <= 0.6):\n",
    "        positive += 1\n",
    "    elif (pol > 0.6 and pol <= 1):\n",
    "        spositive += 1\n",
    "    elif (pol > -0.3 and pol <= 0):\n",
    "        wnegative += 1\n",
    "    elif (pol > -0.6 and pol <= -0.3):\n",
    "        negative += 1\n",
    "    elif (pol > -1 and pol <= -0.6):\n",
    "        snegative += 1\n"
   ]
  },
  {
   "cell_type": "code",
   "execution_count": 37,
   "metadata": {},
   "outputs": [
    {
     "data": {
      "text/plain": [
       "0.07870258709544423"
      ]
     },
     "execution_count": 37,
     "metadata": {},
     "output_type": "execute_result"
    }
   ],
   "source": [
    "# finding average reaction\n",
    "polarity = polarity / NoOfTerms\n",
    "polarity"
   ]
  },
  {
   "cell_type": "code",
   "execution_count": 38,
   "metadata": {},
   "outputs": [],
   "source": [
    "def percentage(part, whole):\n",
    "    temp = 100 * float(part) / float(whole)\n",
    "    return format(temp, '.2f')"
   ]
  },
  {
   "cell_type": "code",
   "execution_count": 39,
   "metadata": {},
   "outputs": [],
   "source": [
    " # finding average of how people are reacting\n",
    "positive = percentage(positive, NoOfTerms)\n",
    "wpositive = percentage(wpositive, NoOfTerms)\n",
    "spositive = percentage(spositive, NoOfTerms)\n",
    "negative = percentage(negative, NoOfTerms)\n",
    "wnegative = percentage(wnegative, NoOfTerms)\n",
    "snegative = percentage(snegative, NoOfTerms)\n",
    "neutral = percentage(neutral, NoOfTerms)\n",
    "\n"
   ]
  },
  {
   "cell_type": "code",
   "execution_count": 40,
   "metadata": {},
   "outputs": [
    {
     "name": "stdout",
     "output_type": "stream",
     "text": [
      "How people are reacting on donald trump by analyzing 70 tweets.\n",
      "\n",
      "-----------------------------------------------------------------------------------------\n",
      "\n",
      "General Report: \n",
      "Weakly Positive\n",
      "\n",
      "------------------------------------------------------------------------------------------\n",
      "\n",
      "Detailed Report: \n",
      "20.00% people thought it was positive\n",
      "27.14% people thought it was weakly positive\n",
      "2.86% people thought it was strongly positive\n",
      "15.71% people thought it was negative\n",
      "4.29% people thought it was weakly negative\n",
      "1.43% people thought it was strongly negative\n",
      "28.57% people thought it was neutral\n"
     ]
    }
   ],
   "source": [
    " # printing out data\n",
    "print(\"How people are reacting on \" + searchTerm + \" by analyzing \" + str(NoOfTerms) + \" tweets.\")\n",
    "print()\n",
    "print(\"-----------------------------------------------------------------------------------------\")\n",
    "print()\n",
    "print(\"General Report: \")\n",
    "\n",
    "if (polarity == 0):\n",
    "    print(\"Neutral\")\n",
    "elif (polarity > 0 and polarity <= 0.3):\n",
    "    print(\"Weakly Positive\")\n",
    "elif (polarity > 0.3 and polarity <= 0.6):\n",
    "    print(\"Positive\")\n",
    "elif (polarity > 0.6 and polarity <= 1):\n",
    "    print(\"Strongly Positive\")\n",
    "elif (polarity > -0.3 and polarity <= 0):\n",
    "    print(\"Weakly Negative\")\n",
    "elif (polarity > -0.6 and polarity <= -0.3):\n",
    "    print(\"Negative\")\n",
    "elif (polarity > -1 and polarity <= -0.6):\n",
    "    print(\"Strongly Negative\")\n",
    "\n",
    "print()\n",
    "print(\"------------------------------------------------------------------------------------------\")\n",
    "print()\n",
    "print(\"Detailed Report: \")\n",
    "print(str(positive) + \"% people thought it was positive\")\n",
    "print(str(wpositive) + \"% people thought it was weakly positive\")\n",
    "print(str(spositive) + \"% people thought it was strongly positive\")\n",
    "print(str(negative) + \"% people thought it was negative\")\n",
    "print(str(wnegative) + \"% people thought it was weakly negative\")\n",
    "print(str(snegative) + \"% people thought it was strongly negative\")\n",
    "print(str(neutral) + \"% people thought it was neutral\")"
   ]
  },
  {
   "cell_type": "code",
   "execution_count": 41,
   "metadata": {},
   "outputs": [],
   "source": [
    "sizes = [positive, wpositive, spositive, neutral, negative, wnegative, snegative]\n",
    "colors = ['yellowgreen','lightgreen','darkgreen', 'gold', 'red','lightsalmon','darkred']\n",
    "labels = ['Positive [' + str(positive) + '%]', 'Weakly Positive [' + str(wpositive) + '%]',\n",
    "          'Strongly Positive [' + str(spositive) + '%]', 'Neutral [' + str(neutral) + '%]',\n",
    "          'Negative [' + str(negative) + '%]', 'Weakly Negative [' + str(wnegative) + '%]', \n",
    "          'Strongly Negative [' + str(snegative) + '%]']"
   ]
  },
  {
   "cell_type": "code",
   "execution_count": 42,
   "metadata": {},
   "outputs": [
    {
     "data": {
      "image/png": "[encoded data removed]",
      "text/plain": [
       "<Figure size 432x288 with 1 Axes>"
      ]
     },
     "metadata": {},
     "output_type": "display_data"
    }
   ],
   "source": [
    "plt.pie(sizes, labels = labels, colors = colors)\n",
    "plt.legend(labels, loc=\"best\")\n",
    "plt.title('How people are reacting on ' + searchTerm + ' by analyzing ' + str(NoOfTerms) + ' Tweets.')\n",
    "plt.axis('equal')\n",
    "plt.tight_layout()\n",
    "plt.show()"
   ]
  },
  {
   "cell_type": "code",
   "execution_count": null,
   "metadata": {},
   "outputs": [],
   "source": []
  }
 ],
 "metadata": {
  "kernelspec": {
   "display_name": "Python 3.10.4 64-bit",
   "language": "python",
   "name": "python3"
  },
  "language_info": {
   "codemirror_mode": {
    "name": "ipython",
    "version": 3
   },
   "file_extension": ".py",
   "mimetype": "text/x-python",
   "name": "python",
   "nbconvert_exporter": "python",
   "pygments_lexer": "ipython3",
   "version": "3.10.4"
  },
  "vscode": {
   "interpreter": {
    "hash": "916dbcbb3f70747c44a77c7bcd40155683ae19c65e1c03b4aa3499c5328201f1"
   }
  }
 },
 "nbformat": 4,
 "nbformat_minor": 4
}
